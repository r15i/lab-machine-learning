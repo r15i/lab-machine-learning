{
 "cells": [
  {
   "cell_type": "markdown",
   "metadata": {},
   "source": [
    "# Machine Learning LAB 1 \n",
    "Course 2023/24: P. Zanuttigh, M. Caligiuri, F. Lincetto\n",
    "\n",
    "The notebook contains some simple tasks to be performed about **classification and regression**. <br>\n",
    "Complete all the **required code sections** and **answer to all the questions**. <br>\n",
    "\n",
    "### IMPORTANT for the evaluation score:\n",
    "1. **Read carefully all cells** and **follow the instructions**.\n",
    "1. **Rerun all the code from the beginning** to obtain the results for the final version of your notebook, since this is the way we will do it before evaluating your notebooks.\n",
    "2. Make sure to fill the code in the appropriate places **without modifying the template**, otherwise you risk breaking later cells.\n",
    "3. Please **submit the jupyter notebook file (.ipynb)**, do not submit python scripts (.py) or plain text files. **Make sure that it runs fine with the restat&run all command** - otherwise points will be deduced.\n",
    "4. **Answer the questions in the appropriate cells**, not in the ones where the question is presented."
   ]
  },
  {
   "cell_type": "markdown",
   "metadata": {},
   "source": [
    "##  Classification of Stayed/Churned Customers"
   ]
  },
  {
   "cell_type": "markdown",
   "metadata": {},
   "source": [
    "Place your **name** and **ID number** (matricola) in the cell below. <br>\n",
    "Also recall to **save the file as Surname_Name_LAB1.ipynb** otherwise your homework could get lost\n",
    "<br>"
   ]
  },
  {
   "cell_type": "markdown",
   "metadata": {},
   "source": [
    "**Student name**: Emilio Risi<br>\n",
    "**ID Number**: 3456"
   ]
  },
  {
   "cell_type": "markdown",
   "metadata": {},
   "source": [
    "### Dataset description\n",
    "\n",
    "The Customer Churn table contains information on all 3,758 customers from a Telecommunications company in California in Q2 2022. \n",
    "The dataset contains three features:\n",
    "- **Tenure in Months**: Number of months the customer has stayed with the company\n",
    "- **Monthly Charge**: The amount charged to the customer monthly\n",
    "- **Age**: Customer's age\n",
    "\n",
    "The aim of the task is to predict if a customer will churn or not based on the three features.\n",
    "\n",
    "<center>\n",
    "\n",
    "![COVER](data/dataset-cover.png \"COVER\")\n",
    "\n",
    "</center>"
   ]
  },
  {
   "cell_type": "markdown",
   "metadata": {},
   "source": [
    "We first **import** all **the packages** that are needed."
   ]
  },
  {
   "cell_type": "code",
   "execution_count": 1,
   "metadata": {},
   "outputs": [],
   "source": [
    "import pandas as pd\n",
    "from matplotlib import pyplot as plt\n",
    "import numpy as np\n",
    "from sklearn import linear_model, preprocessing"
   ]
  },
  {
   "cell_type": "markdown",
   "metadata": {},
   "source": [
    "Change some global settings for layout purposes."
   ]
  },
  {
   "cell_type": "code",
   "execution_count": 2,
   "metadata": {},
   "outputs": [],
   "source": [
    "# if you are in the jupyter notebook environment you can change the 'inline' option with 'notebook' to get interactive plots\n",
    "%matplotlib inline\n",
    "# change the limit on the line length and crop to 0 very small numbers, for clearer printing\n",
    "np.set_printoptions(linewidth=500, suppress=True)"
   ]
  },
  {
   "cell_type": "markdown",
   "metadata": {},
   "source": [
    "## A) Perceptron\n",
    "In the following cells we will **implement** the **perceptron** algorithm and use it to learn a halfspace."
   ]
  },
  {
   "cell_type": "markdown",
   "metadata": {},
   "source": [
    "**TO DO (A.0):** **Set** the random **seed** using your **ID**. If you need to change it for testing add a constant explicitly, eg.: 1234567 + 1"
   ]
  },
  {
   "cell_type": "code",
   "execution_count": 3,
   "metadata": {},
   "outputs": [],
   "source": [
    "IDnumber = 3456 # YOUR_ID\n",
    "np.random.seed(IDnumber)"
   ]
  },
  {
   "cell_type": "markdown",
   "metadata": {},
   "source": [
    "Before proceding to the training steps, we **load the dataset and split it** in training and test set (the **training** set is **typically larger**, here we use a 75% training 25% test split).\n",
    "The **split** is **performed after applying a random permutation** to the dataset, such permutation will **depend on the seed** you set above. Try different seeds to evaluate the impact of randomization.<br><br>\n",
    "**DO NOT CHANGE THE PRE-WRITTEN CODE UNLESS OTHERWISE SPECIFIED**"
   ]
  },
  {
   "cell_type": "markdown",
   "metadata": {},
   "source": [
    "### The Dataset\n",
    "The dataset is a `.csv` file containing three input features and a label. Here is an example of the first 4 rows of the dataset: \n",
    "\n",
    "<center>\n",
    "\n",
    "Tenure in Months | Monthly Charge | Age | Customer Status |\n",
    "| -----------------| ---------------|-----|-----------------|\n",
    "| 9 | 65.6 | 37 | 0 |\n",
    "| 9 | -4.0 | 46 | 0 |\n",
    "| 4 | 73.9 | 50 | 1 |\n",
    "| ... | ... | ... | ... |\n",
    "\n",
    "</center>\n",
    "\n",
    "Customer Status is 0 if the customer has stayed with the company and 1 if the customer has churned."
   ]
  },
  {
   "cell_type": "code",
   "execution_count": 4,
   "metadata": {},
   "outputs": [],
   "source": [
    "def load_dataset(filename):\n",
    "    data_train = pd.read_csv(filename)\n",
    "    #permute the data\n",
    "    data_train = data_train.sample(frac=1).reset_index(drop=True) # shuffle the data\n",
    "    X = data_train.iloc[:, 0:3].values # Get first two columns as the input\n",
    "    Y = data_train.iloc[:, 3].values # Get the third column as the label\n",
    "    Y = 2*Y-1 # Make sure labels are -1 or 1 (0 --> -1, 1 --> 1)\n",
    "    return X,Y"
   ]
  },
  {
   "cell_type": "code",
   "execution_count": 5,
   "metadata": {},
   "outputs": [],
   "source": [
    "# Load the dataset\n",
    "X, Y = load_dataset('data/telecom_customer_churn_cleaned.csv')"
   ]
  },
  {
   "cell_type": "markdown",
   "metadata": {},
   "source": [
    "We are going to differentiate (classify) between **class \"1\" (churned)** and **class \"-1\" (stayed)**"
   ]
  },
  {
   "cell_type": "markdown",
   "metadata": {},
   "source": [
    "# Split data in training and test sets\n",
    "\n",
    "\n",
    "\n",
    "Given $m$ total data, denote with $m_{t}$ the part used for training. Keep $m_t$ data as training data, and $m_{test}:= m-m_{t}$. <br>\n",
    "For instance one can take $m_t=0.75m$ of the data as training and $m_{test}=0.25m$ as testing. <br>\n",
    "Let us define as define\n",
    "\n",
    "$\\bullet$ $S_{t}$ the training data set\n",
    "\n",
    "$\\bullet$ $S_{test}$ the testing data set\n",
    "\n",
    "\n",
    "The reason for this splitting is as follows:\n",
    "\n",
    "TRAINING DATA: The training data are used to compute the empirical loss\n",
    "$$\n",
    "L_S(h) = \\frac{1}{m_t} \\sum_{z_i \\in S_{t}} \\ell(h,z_i)\n",
    "$$\n",
    "which is used to estimate $h$ in a given model class ${\\cal H}$.\n",
    "i.e. \n",
    "$$\n",
    "\\hat{h} = {\\rm arg\\; min}_{h \\in {\\cal H}} \\, L_S(h)\n",
    "$$\n",
    "\n",
    "TESTING DATA: The test data set can be used to estimate the performance of the final estimated model\n",
    "$\\hat h_{\\hat d_j}$ using:\n",
    "$$\n",
    "L_{{\\cal D}}(\\hat h_{\\hat d_j}) \\simeq \\frac{1}{m_{test}} \\sum_{ z_i \\in S_{test}} \\ell(\\hat h_{\\hat d_j},z_i)\n",
    "$$"
   ]
  },
  {
   "cell_type": "markdown",
   "metadata": {},
   "source": [
    "**TO DO (A.1):** **Divide** the **data into training and test set** (**75%** of the data in the **first** set, **25%** in the **second** one). <br>\n",
    "<br>\n",
    "Notice that as is common practice in Statistics and Machine Learning, **we scale the data** (= each variable) so that it is centered **(zero mean)** and has **standard deviation equal to 1**. <br>\n",
    "This helps in terms of numerical conditioning of the (inverse) problems of estimating the model (the coefficients of the linear regression in this case), as well as to give the same scale to all the coefficients."
   ]
  },
  {
   "cell_type": "code",
   "execution_count": 6,
   "metadata": {},
   "outputs": [
    {
     "name": "stdout",
     "output_type": "stream",
     "text": [
      "Number of samples in the train set: 2817\n",
      "Number of samples in the test set: 2817\n",
      "\n",
      "Number of night instances in test: 1395\n",
      "Number of day instances in test: 1422\n",
      "Mean of the training input data: [ 0. -0. -0.]\n",
      "Std of the training input data: [1. 1. 1.]\n",
      "Mean of the test input data: [-0.  0. -0.]\n",
      "Std of the test input data: [1. 1. 1.]\n"
     ]
    }
   ],
   "source": [
    "# compute the splits\n",
    "\n",
    "# training percentage\n",
    "p = 0.75\n",
    "# does also the floor\n",
    "m_training = int(len(X)//(1/p))\n",
    "\n",
    "# m_test is the number of samples in the test set (total-training)\n",
    "m_test =  len(X) - m_training\n",
    "\n",
    "# X_training = instances for training set\n",
    "X_training =  X[:m_training]\n",
    "# Y_training = labels for the training set\n",
    "Y_training =  Y[:m_training]# ADD YOUR CODE HERE\n",
    "\n",
    "# X_test = instances for test set\n",
    "X_test =   X[m_test:]\n",
    "# Y_test = labels for the test set\n",
    "Y_test =  Y[m_test:]\n",
    "\n",
    "print(\"Number of samples in the train set:\", X_training.shape[0])\n",
    "print(\"Number of samples in the test set:\", X_test.shape[0])\n",
    "print(\"\\nNumber of night instances in test:\", np.sum(Y_test==-1))\n",
    "print(\"Number of day instances in test:\", np.sum(Y_test==1))\n",
    "\n",
    "\n",
    "scaler = preprocessing.StandardScaler().fit(X_training) \n",
    "np.set_printoptions(suppress=True) # sets to zero floating point numbers < min_float_eps\n",
    "\n",
    "\n",
    "X_training = scaler.transform(X_training) # ADD YOUR CODE HERE\n",
    "\n",
    "print (\"Mean of the training input data:\", X_training.mean(axis=0))\n",
    "print (\"Std of the training input data:\",X_training.std(axis=0))\n",
    "\n",
    "X_test = scaler.fit_transform(X_test) # ADD YOUR CODE HERE\n",
    "\n",
    "print (\"Mean of the test input data:\", X_test.mean(axis=0))\n",
    "print (\"Std of the test input data:\", X_test.std(axis=0))\n"
   ]
  },
  {
   "cell_type": "markdown",
   "metadata": {},
   "source": [
    "We **add a 1 in front of each sample** so that we can use a vector in **homogeneous coordinates** to describe all the coefficients of the model. This can be done with the function $hstack$ in $numpy$."
   ]
  },
  {
   "cell_type": "code",
   "execution_count": 7,
   "metadata": {},
   "outputs": [],
   "source": [
    "def to_homogeneous(X_training, X_test):\n",
    "    # Add a 1 to each sample (homogeneous coordinates)\n",
    "    X_training = np.hstack( [np.ones( (X_training.shape[0], 1) ), X_training] )\n",
    "    X_test = np.hstack( [np.ones( (X_test.shape[0], 1) ), X_test] )\n",
    "    \n",
    "    return X_training, X_test"
   ]
  },
  {
   "cell_type": "code",
   "execution_count": 8,
   "metadata": {},
   "outputs": [
    {
     "name": "stdout",
     "output_type": "stream",
     "text": [
      "Training set in homogeneous coordinates:\n",
      "[[ 1.          1.71083883 -1.38602216  1.85772398]\n",
      " [ 1.          0.38211898 -1.36632373 -1.20607741]\n",
      " [ 1.         -1.19573584 -0.89356138  1.79880472]\n",
      " [ 1.         -0.07462847  1.09926326 -0.49904632]\n",
      " [ 1.          1.25409138  0.74140842  1.32745066]\n",
      " [ 1.          1.25409138  0.10777555  0.09014625]\n",
      " [ 1.         -0.94660087  1.08120636  0.79717735]\n",
      " [ 1.          0.46516397 -1.53047733 -0.49904632]\n",
      " [ 1.         -0.98812336  0.94824195  1.26853141]\n",
      " [ 1.         -0.78051089 -1.55345883 -0.14553078]]\n"
     ]
    }
   ],
   "source": [
    "# convert to homogeneous coordinates using the function above\n",
    "X_training, X_test = to_homogeneous(X_training, X_test)\n",
    "print(\"Training set in homogeneous coordinates:\")\n",
    "print(X_training[:10])"
   ]
  },
  {
   "cell_type": "markdown",
   "metadata": {},
   "source": [
    "**TO DO (A.2):** Now **complete** the function *perceptron*. <br>\n",
    "The **perceptron** algorithm **does not terminate** if the **data** is not **linearly separable**, therefore your implementation should **terminate** if it **reached the termination** condition seen in class **or** if a **maximum number of iterations** have already been run, where one **iteration** corresponds to **one update of the perceptron weights**. In case the **termination** is reached **because** the **maximum** number of **iterations** have been completed, the implementation should **return the best model** seen throughout .\n",
    "\n",
    "The input parameters to pass are:\n",
    "- $X$: the matrix of input features, one row for each sample\n",
    "- $Y$: the vector of labels for the input features matrix X\n",
    "- $max\\_num\\_iterations$: the maximum number of iterations for running the perceptron\n",
    "\n",
    "The output values are:\n",
    "- $best\\_w$: the vector with the coefficients of the best model (or the latest, if the termination condition is reached)\n",
    "- $best\\_error$: the *fraction* of misclassified samples for the best model"
   ]
  },
  {
   "cell_type": "code",
   "execution_count": 9,
   "metadata": {},
   "outputs": [],
   "source": [
    "def count_errors(current_w, X, Y):\n",
    "    # This function:\n",
    "    # computes the number of misclassified samples\n",
    "    # returns the index of all misclassified samples\n",
    "    # if there are no misclassified samples, returns -1 as index\n",
    "    err = []\n",
    "    for i in range(0,len(X)):\n",
    "        #print(f\"<w,X>==> {np.dot(current_w,X[i]) } * {Y[i]}\")\n",
    "        if(np.dot(current_w,X[i])*Y[i] <= 0):\n",
    "            # add a new misclassified\n",
    "            err.append(i)\n",
    "        #else:\n",
    "        #   pass #nothing to do since is a good classification\n",
    "    if(len(err) == 0):\n",
    "       return -1,-1\n",
    "    \n",
    "    return len(err),err[0]\n",
    "\n",
    "\n",
    "#current_w = current_w .......\n",
    "def perceptron_update(current_w, x, y):\n",
    "    # Place in this function the update rule of the perceptron algorithm\n",
    "    # Remember that numpy arrays can be treated as generalized variables\n",
    "    # therefore given array a = [1,2,3,4], the operation b = 10*a will yield\n",
    "    # b = [10, 20, 30, 40]\n",
    "    new_w =  current_w + x * y # ADD YOUR CODE HERE  \n",
    "    return new_w\n",
    "\n",
    "\n",
    "\n",
    "\n",
    "def perceptron_no_randomization(X, Y, max_num_iterations):\n",
    "    \n",
    "    # Initialize some support variables\n",
    "    num_samples = X.shape[0]\n",
    "    # best_errors will keep track of the best (minimum) number of errors\n",
    "    # seen throughout training, used for the update of the best_w variable\n",
    "    best_error = num_samples+1\n",
    "     \n",
    "    # Initialize the weights of the algorith with w=0\n",
    "    curr_w = np.zeros(len(X[0]) , dtype=int)# ADD YOUR CODE HERE\n",
    "    \n",
    "    \n",
    "    # The best_w variable will be used to keep track of the best solution\n",
    "    best_w = curr_w.copy()\n",
    "\n",
    "    # compute the number of misclassified samples and the index of the first of them\n",
    "    num_misclassified, index_misclassified = count_errors(curr_w, X, Y)\n",
    "    \n",
    "    \n",
    "\n",
    "    \n",
    "    # update the 'best' variables\n",
    "    \n",
    "    if num_misclassified < best_error:\n",
    "        best_error = num_misclassified# ADD YOUR CODE HERE\n",
    "        best_w = perceptron_update(curr_w,X[index_misclassified],Y[index_misclassified]) # ADD YOUR CODE HERE\n",
    "    \n",
    "    \n",
    "    #print(\"initial setup\")\n",
    "    #print(f\"num_misclassified {num_misclassified}\")\n",
    "    #print(f\"index_misclassified  {index_misclassified}\")\n",
    "    #print(f\"best_w  {best_w}\")\n",
    "    #print(\"starting cycle\")\n",
    "    \n",
    "    # initialize the number of iterations\n",
    "    num_iter = 0\n",
    "    # Main loop continue until all samples correctly classified or max # iterations reached\n",
    "    # Remember that to signify that no errors were found we set index_misclassified = -1\n",
    "    while index_misclassified != -1 and num_iter < max_num_iterations:\n",
    "        \n",
    "        # ADD YOUR CODE HERE\n",
    "        # COMPLETE THE WHILE LOOP\n",
    "\n",
    "        # Choose the misclassified sample with the lowest index at each iteration\n",
    "        \n",
    "        #update to the current best\n",
    "        curr_w = best_w\n",
    "        #check if got any improvemnet\n",
    "        num_misclassified, index_misclassified = count_errors(curr_w, X, Y)\n",
    "        \n",
    "    #    print(f\"num_misclassified {num_misclassified}\")\n",
    "    #    print(f\"index_misclassified  {index_misclassified}\")\n",
    "        \n",
    "        #update the best if it has less error\n",
    "        if num_misclassified < best_error:\n",
    "            #update with error number\n",
    "            best_error = num_misclassified# ADD YOUR CODE HERE\n",
    "            #update the value of w with the next misclassified point\n",
    "            best_w = perceptron_update(curr_w,X[index_misclassified],Y[index_misclassified]) # ADD YOUR CODE HERE\n",
    "\n",
    "        num_iter+=1 \n",
    "\n",
    "    # as required, return the best error as a ratio with respect to the total number of samples\n",
    "    best_error = best_error/num_samples# ADD YOUR CODE HERE\n",
    "    \n",
    "    return best_w, best_error\n",
    "\n",
    "#perceptron_no_randomization(X_training, Y_training, 10)\n",
    "\n",
    "    \n"
   ]
  },
  {
   "cell_type": "markdown",
   "metadata": {},
   "source": [
    "Now we use the implementation above of the perceptron to learn a model from the training data using 30 iterations and print the error of the best model we have found."
   ]
  },
  {
   "cell_type": "code",
   "execution_count": 10,
   "metadata": {},
   "outputs": [
    {
     "name": "stdout",
     "output_type": "stream",
     "text": [
      "Training Error of perceptron (30 iterations): 0.29357472488462905\n"
     ]
    }
   ],
   "source": [
    "# Now run the perceptron for 100 iterations\n",
    "w_found, error = perceptron_no_randomization(X_training,Y_training, 30)\n",
    "print(\"Training Error of perceptron (30 iterations): \" + str(error))"
   ]
  },
  {
   "cell_type": "markdown",
   "metadata": {},
   "source": [
    "**TO DO (A.3):** use the best model $w\\_found$ to **predict the labels for the test dataset** and print the fraction of misclassified samples in the test set (the test error that is an estimate of the true loss)."
   ]
  },
  {
   "cell_type": "code",
   "execution_count": 11,
   "metadata": {},
   "outputs": [
    {
     "name": "stdout",
     "output_type": "stream",
     "text": [
      "Test Error of perceptron (30 iterations): 0.2281075326058025\n"
     ]
    }
   ],
   "source": [
    "errors, _ = count_errors(w_found, X_test,Y_test)\n",
    "\n",
    "true_loss_estimate =  errors/X.shape[0] # ADD YOUR CODE HERE     # Error rate on the test set\n",
    "# NOTE: you can avoid using num_errors if you prefer, as long as true_loss_estimate is correct\n",
    "print(\"Test Error of perceptron (30 iterations): \" + str(true_loss_estimate))"
   ]
  },
  {
   "cell_type": "markdown",
   "metadata": {},
   "source": [
    "**TO DO (A.4):** implement the correct randomized version of the perceptron such that at each iteration the algorithm picks a random misclassified sample and updates the weights using that sample."
   ]
  },
  {
   "cell_type": "code",
   "execution_count": 12,
   "metadata": {},
   "outputs": [],
   "source": [
    "def count_errors(current_w, X, Y):\n",
    "    # This function:\n",
    "    # computes the number of misclassified samples\n",
    "    # returns the index of all misclassified samples\n",
    "    # if there are no misclassified samples, returns -1 as index\n",
    "    err = []\n",
    "    for i in range(0,len(X)):\n",
    "        #print(f\"<w,X>==> {np.dot(current_w,X[i]) } * {Y[i]}\")\n",
    "        if(np.dot(current_w,X[i])*Y[i] <= 0):\n",
    "            # add a new misclassified\n",
    "            err.append(i)\n",
    "        #else:\n",
    "        #   pass #nothing to do since is a good classification\n",
    "    if(len(err) == 0):\n",
    "       return -1,-1\n",
    "   \n",
    "    r = np.random.randint(low=0, high=len(err))\n",
    "    return len(err),err[r]\n",
    "\n",
    "\n",
    "def perceptron(X, Y, max_num_iterations):    \n",
    "    # Initialize some support variables\n",
    "    num_samples = X.shape[0]\n",
    "    # best_errors will keep track of the best (minimum) number of errors\n",
    "    # seen throughout training, used for the update of the best_w variable\n",
    "    best_error = num_samples+1\n",
    "     \n",
    "    # Initialize the weights of the algorith with w=0\n",
    "    curr_w = np.zeros(len(X[0]) , dtype=int)# ADD YOUR CODE HERE\n",
    "    \n",
    "    \n",
    "    # The best_w variable will be used to keep track of the best solution\n",
    "    best_w = curr_w.copy()\n",
    "\n",
    "    # compute the number of misclassified samples and the index of the first of them\n",
    "    num_misclassified, index_misclassified = count_errors(curr_w, X, Y)\n",
    "    \n",
    "    \n",
    "\n",
    "    \n",
    "    # update the 'best' variables\n",
    "    \n",
    "    if num_misclassified < best_error:\n",
    "        best_error = num_misclassified# ADD YOUR CODE HERE\n",
    "        best_w = perceptron_update(curr_w,X[index_misclassified],Y[index_misclassified]) # ADD YOUR CODE HERE\n",
    "    \n",
    "    \n",
    "    #print(\"initial setup\")\n",
    "    #print(f\"num_misclassified {num_misclassified}\")\n",
    "    #print(f\"index_misclassified  {index_misclassified}\")\n",
    "    #print(f\"best_w  {best_w}\")\n",
    "    #print(\"starting cycle\")\n",
    "    \n",
    "    # initialize the number of iterations\n",
    "    num_iter = 0\n",
    "    # Main loop continue until all samples correctly classified or max # iterations reached\n",
    "    # Remember that to signify that no errors were found we set index_misclassified = -1\n",
    "    while index_misclassified != -1 and num_iter < max_num_iterations:\n",
    "        \n",
    "        # ADD YOUR CODE HERE\n",
    "        # COMPLETE THE WHILE LOOP\n",
    "\n",
    "        # Choose the misclassified sample with the lowest index at each iteration\n",
    "        \n",
    "        #update to the current best\n",
    "        curr_w = best_w\n",
    "        #check if got any improvemnet\n",
    "        num_misclassified, index_misclassified = count_errors(curr_w, X, Y)\n",
    "        \n",
    "        \n",
    "        \n",
    "        #update the best if it has less error\n",
    "        if num_misclassified < best_error:\n",
    "            #print(f\"updating best\")\n",
    "            #print(f\"num_misclassified {num_misclassified}\")\n",
    "            #print(f\"index_misclassified  {index_misclassified}\\n\")\n",
    "            #update with error number\n",
    "            best_error = num_misclassified# ADD YOUR CODE HERE\n",
    "            #update the value of w with the next misclassified point\n",
    "            best_w = perceptron_update(curr_w,X[index_misclassified],Y[index_misclassified]) # ADD YOUR CODE HERE\n",
    "\n",
    "        num_iter+=1 \n",
    "\n",
    "    # as required, return the best error as a ratio with respect to the total number of samples\n",
    "    best_error = best_error/num_samples# ADD YOUR CODE HERE\n",
    "    \n",
    "    return best_w, best_error\n",
    "\n",
    "#perceptron(X_training, Y_training, 1000)\n",
    "\n",
    "    "
   ]
  },
  {
   "cell_type": "markdown",
   "metadata": {},
   "source": [
    "**TO DO (A.5):** Now test the correct version of the perceptron using 30 iterations and print the error of the best model we have found."
   ]
  },
  {
   "cell_type": "code",
   "execution_count": 13,
   "metadata": {},
   "outputs": [
    {
     "name": "stdout",
     "output_type": "stream",
     "text": [
      "Training Error of perceptron (30 iterations): 0.34007809726659566\n",
      "Test Error of perceptron (30 iterations): 0.37770678026269083\n"
     ]
    }
   ],
   "source": [
    "# Now run the perceptron for 30 iterations\n",
    "w_found, error = perceptron(X_training,Y_training, 30)\n",
    "print(\"Training Error of perceptron (30 iterations): \" + str(error))\n",
    "\n",
    "errors, _ = count_errors(w_found, X_test,Y_test)\n",
    "\n",
    "true_loss_estimate = errors/X_test.shape[0] # ADD YOUR CODE HERE     # Error rate on the test set\n",
    "# NOTE: you can avoid using num_errors if you prefer, as long as true_loss_estimate is correct\n",
    "print(\"Test Error of perceptron (30 iterations): \" + str(true_loss_estimate))"
   ]
  },
  {
   "cell_type": "markdown",
   "metadata": {},
   "source": [
    "**TO DO (A.Q1) [Answer the following]** <br>\n",
    "What is the difference between the two versions of the perceptron? Can you explain why there is this difference? <br>"
   ]
  },
  {
   "cell_type": "markdown",
   "metadata": {},
   "source": [
    "<div class=\"alert alert-block alert-info\">\n",
    "**ANSWER A.Q1**:<br>\n",
    "The difference stand in the fact that randomizing the pool with wich we update the vector w allows us to not get stuck \n",
    "updating w precision, without being limited by the order of the data\n",
    " </div>"
   ]
  },
  {
   "cell_type": "markdown",
   "metadata": {},
   "source": [
    "### Now consider only a the random version of the perceptron\n",
    "\n",
    "**TO DO (A.Q2) [Answer the following]** <br>\n",
    "What about the difference between the training error and the test error  in terms of fraction of misclassified samples? Explain what you observe. (Notice that with a very small dataset like this one results can change due to randomization, try to run with different random seeds if you get unexpected results)."
   ]
  },
  {
   "cell_type": "markdown",
   "metadata": {},
   "source": [
    "<div class=\"alert alert-block alert-info\">\n",
    "**ANSWER A.Q2**:<br>\n",
    "\n",
    "\n",
    "</div>"
   ]
  },
  {
   "cell_type": "code",
   "execution_count": 15,
   "metadata": {},
   "outputs": [
    {
     "name": "stdout",
     "output_type": "stream",
     "text": [
      "0\n",
      "20\n"
     ]
    },
    {
     "name": "stdout",
     "output_type": "stream",
     "text": [
      "40\n",
      "60\n",
      "80\n",
      "100\n",
      "120\n",
      "140\n",
      "160\n",
      "180\n",
      "200\n",
      "220\n",
      "240\n",
      "260\n",
      "280\n",
      "300\n",
      "320\n",
      "340\n",
      "360\n",
      "380\n",
      "400\n",
      "420\n",
      "Unexpected exception formatting exception. Falling back to standard exception\n"
     ]
    },
    {
     "name": "stderr",
     "output_type": "stream",
     "text": [
      "Traceback (most recent call last):\n",
      "  File \"c:\\Users\\Emilio\\AppData\\Local\\Programs\\Python\\Python311\\Lib\\site-packages\\IPython\\core\\interactiveshell.py\", line 3526, in run_code\n",
      "    exec(code_obj, self.user_global_ns, self.user_ns)\n",
      "  File \"C:\\Users\\Emilio\\AppData\\Local\\Temp\\ipykernel_4408\\2302909107.py\", line 9, in <module>\n",
      "    _, error = perceptron(X_training, Y_training, num_iter)\n",
      "               ^^^^^^^^^^^^^^^^^^^^^^^^^^^^^^^^^^^^^^^^^^^^\n",
      "  File \"C:\\Users\\Emilio\\AppData\\Local\\Temp\\ipykernel_4408\\2675501977.py\", line 68, in perceptron\n",
      "    num_misclassified, index_misclassified = count_errors(curr_w, X, Y)\n",
      "                                             ^^^^^^^^^^^^^^^^^^^^^^^^^^\n",
      "  File \"C:\\Users\\Emilio\\AppData\\Local\\Temp\\ipykernel_4408\\2675501977.py\", line -1, in count_errors\n",
      "KeyboardInterrupt\n",
      "\n",
      "During handling of the above exception, another exception occurred:\n",
      "\n",
      "Traceback (most recent call last):\n",
      "  File \"c:\\Users\\Emilio\\AppData\\Local\\Programs\\Python\\Python311\\Lib\\site-packages\\IPython\\core\\interactiveshell.py\", line 2120, in showtraceback\n",
      "    stb = self.InteractiveTB.structured_traceback(\n",
      "          ^^^^^^^^^^^^^^^^^^^^^^^^^^^^^^^^^^^^^^^^\n",
      "  File \"c:\\Users\\Emilio\\AppData\\Local\\Programs\\Python\\Python311\\Lib\\site-packages\\IPython\\core\\ultratb.py\", line 1435, in structured_traceback\n",
      "    return FormattedTB.structured_traceback(\n",
      "           ^^^^^^^^^^^^^^^^^^^^^^^^^^^^^^^^^\n",
      "  File \"c:\\Users\\Emilio\\AppData\\Local\\Programs\\Python\\Python311\\Lib\\site-packages\\IPython\\core\\ultratb.py\", line 1326, in structured_traceback\n",
      "    return VerboseTB.structured_traceback(\n",
      "           ^^^^^^^^^^^^^^^^^^^^^^^^^^^^^^^\n",
      "  File \"c:\\Users\\Emilio\\AppData\\Local\\Programs\\Python\\Python311\\Lib\\site-packages\\IPython\\core\\ultratb.py\", line 1173, in structured_traceback\n",
      "    formatted_exception = self.format_exception_as_a_whole(etype, evalue, etb, number_of_lines_of_context,\n",
      "                          ^^^^^^^^^^^^^^^^^^^^^^^^^^^^^^^^^^^^^^^^^^^^^^^^^^^^^^^^^^^^^^^^^^^^^^^^^^^^^^^^\n",
      "  File \"c:\\Users\\Emilio\\AppData\\Local\\Programs\\Python\\Python311\\Lib\\site-packages\\IPython\\core\\ultratb.py\", line 1088, in format_exception_as_a_whole\n",
      "    frames.append(self.format_record(record))\n",
      "                  ^^^^^^^^^^^^^^^^^^^^^^^^^^\n",
      "  File \"c:\\Users\\Emilio\\AppData\\Local\\Programs\\Python\\Python311\\Lib\\site-packages\\IPython\\core\\ultratb.py\", line 970, in format_record\n",
      "    frame_info.lines, Colors, self.has_colors, lvals\n",
      "    ^^^^^^^^^^^^^^^^\n",
      "  File \"c:\\Users\\Emilio\\AppData\\Local\\Programs\\Python\\Python311\\Lib\\site-packages\\IPython\\core\\ultratb.py\", line 792, in lines\n",
      "    return self._sd.lines\n",
      "           ^^^^^^^^^^^^^^\n",
      "  File \"c:\\Users\\Emilio\\AppData\\Local\\Programs\\Python\\Python311\\Lib\\site-packages\\stack_data\\utils.py\", line 145, in cached_property_wrapper\n",
      "    value = obj.__dict__[self.func.__name__] = self.func(obj)\n",
      "                                               ^^^^^^^^^^^^^^\n",
      "  File \"c:\\Users\\Emilio\\AppData\\Local\\Programs\\Python\\Python311\\Lib\\site-packages\\stack_data\\core.py\", line 734, in lines\n",
      "    pieces = self.included_pieces\n",
      "             ^^^^^^^^^^^^^^^^^^^^\n",
      "  File \"c:\\Users\\Emilio\\AppData\\Local\\Programs\\Python\\Python311\\Lib\\site-packages\\stack_data\\utils.py\", line 145, in cached_property_wrapper\n",
      "    value = obj.__dict__[self.func.__name__] = self.func(obj)\n",
      "                                               ^^^^^^^^^^^^^^\n",
      "  File \"c:\\Users\\Emilio\\AppData\\Local\\Programs\\Python\\Python311\\Lib\\site-packages\\stack_data\\core.py\", line 681, in included_pieces\n",
      "    pos = scope_pieces.index(self.executing_piece)\n",
      "                             ^^^^^^^^^^^^^^^^^^^^\n",
      "  File \"c:\\Users\\Emilio\\AppData\\Local\\Programs\\Python\\Python311\\Lib\\site-packages\\stack_data\\utils.py\", line 145, in cached_property_wrapper\n",
      "    value = obj.__dict__[self.func.__name__] = self.func(obj)\n",
      "                                               ^^^^^^^^^^^^^^\n",
      "  File \"c:\\Users\\Emilio\\AppData\\Local\\Programs\\Python\\Python311\\Lib\\site-packages\\stack_data\\core.py\", line 660, in executing_piece\n",
      "    return only(\n",
      "           ^^^^^\n",
      "  File \"c:\\Users\\Emilio\\AppData\\Local\\Programs\\Python\\Python311\\Lib\\site-packages\\executing\\executing.py\", line 116, in only\n",
      "    raise NotOneValueFound('Expected one value, found 0')\n",
      "executing.executing.NotOneValueFound: Expected one value, found 0\n"
     ]
    },
    {
     "data": {
      "text/plain": [
       "<Figure size 800x400 with 0 Axes>"
      ]
     },
     "metadata": {},
     "output_type": "display_data"
    }
   ],
   "source": [
    "# Plot the loss with respect to the number of iterations\n",
    "plt.figure(figsize=(8,4))\n",
    "\n",
    "num_iters = np.arange(0, 1001, 20)\n",
    "errors = []\n",
    "\n",
    "for num_iter in num_iters:\n",
    "    _, error = perceptron(X_training, Y_training, num_iter)\n",
    "    errors.append(error)\n",
    "\n",
    "plt.plot(num_iters, errors)\n",
    "plt.xlabel('Number of iterations')\n",
    "plt.ylabel('Training error')\n",
    "plt.grid()\n",
    "plt.show()\n",
    "\n",
    "# NOTE how the training loss decreases as we increase the number of iterations"
   ]
  },
  {
   "cell_type": "markdown",
   "metadata": {},
   "source": [
    "**TO DO (A.6):** Copy the code from the last 2 cells above in the cell below and repeat the training with 3000 iterations. Then print the error in the training set and the estimate of the true loss obtained from the test set."
   ]
  },
  {
   "cell_type": "code",
   "execution_count": 16,
   "metadata": {
    "scrolled": true
   },
   "outputs": [
    {
     "ename": "KeyboardInterrupt",
     "evalue": "",
     "output_type": "error",
     "traceback": [
      "\u001b[1;31m---------------------------------------------------------------------------\u001b[0m",
      "\u001b[1;31mKeyboardInterrupt\u001b[0m                         Traceback (most recent call last)",
      "\u001b[1;32mc:\\Users\\Emilio\\Desktop\\lab machine learning\\lab1(consegna)\\assignment_lab01.ipynb Cell 40\u001b[0m line \u001b[0;36m1\n\u001b[1;32m----> <a href='vscode-notebook-cell:/c%3A/Users/Emilio/Desktop/lab%20machine%20learning/lab1%28consegna%29/assignment_lab01.ipynb#X54sZmlsZQ%3D%3D?line=0'>1</a>\u001b[0m w_found, error \u001b[39m=\u001b[39m perceptron(X_training,Y_training, \u001b[39m3000\u001b[39;49m)\u001b[39m# ADD YOUR CODE HERE  \u001b[39;00m\n\u001b[0;32m      <a href='vscode-notebook-cell:/c%3A/Users/Emilio/Desktop/lab%20machine%20learning/lab1%28consegna%29/assignment_lab01.ipynb#X54sZmlsZQ%3D%3D?line=2'>3</a>\u001b[0m \u001b[39mprint\u001b[39m(\u001b[39m\"\u001b[39m\u001b[39mTraining Error of perceptron (3000 iterations): \u001b[39m\u001b[39m\"\u001b[39m \u001b[39m+\u001b[39m \u001b[39mstr\u001b[39m(error))\n\u001b[0;32m      <a href='vscode-notebook-cell:/c%3A/Users/Emilio/Desktop/lab%20machine%20learning/lab1%28consegna%29/assignment_lab01.ipynb#X54sZmlsZQ%3D%3D?line=4'>5</a>\u001b[0m num_errors, _ \u001b[39m=\u001b[39m count_errors(w_found, X_test,Y_test)  \u001b[39m# ADD YOUR CODE HERE  \u001b[39;00m\n",
      "\u001b[1;32mc:\\Users\\Emilio\\Desktop\\lab machine learning\\lab1(consegna)\\assignment_lab01.ipynb Cell 40\u001b[0m line \u001b[0;36m6\n\u001b[0;32m     <a href='vscode-notebook-cell:/c%3A/Users/Emilio/Desktop/lab%20machine%20learning/lab1%28consegna%29/assignment_lab01.ipynb#X54sZmlsZQ%3D%3D?line=65'>66</a>\u001b[0m curr_w \u001b[39m=\u001b[39m best_w\n\u001b[0;32m     <a href='vscode-notebook-cell:/c%3A/Users/Emilio/Desktop/lab%20machine%20learning/lab1%28consegna%29/assignment_lab01.ipynb#X54sZmlsZQ%3D%3D?line=66'>67</a>\u001b[0m \u001b[39m#check if got any improvemnet\u001b[39;00m\n\u001b[1;32m---> <a href='vscode-notebook-cell:/c%3A/Users/Emilio/Desktop/lab%20machine%20learning/lab1%28consegna%29/assignment_lab01.ipynb#X54sZmlsZQ%3D%3D?line=67'>68</a>\u001b[0m num_misclassified, index_misclassified \u001b[39m=\u001b[39m count_errors(curr_w, X, Y)\n\u001b[0;32m     <a href='vscode-notebook-cell:/c%3A/Users/Emilio/Desktop/lab%20machine%20learning/lab1%28consegna%29/assignment_lab01.ipynb#X54sZmlsZQ%3D%3D?line=71'>72</a>\u001b[0m \u001b[39m#update the best if it has less error\u001b[39;00m\n\u001b[0;32m     <a href='vscode-notebook-cell:/c%3A/Users/Emilio/Desktop/lab%20machine%20learning/lab1%28consegna%29/assignment_lab01.ipynb#X54sZmlsZQ%3D%3D?line=72'>73</a>\u001b[0m \u001b[39mif\u001b[39;00m num_misclassified \u001b[39m<\u001b[39m best_error:\n\u001b[0;32m     <a href='vscode-notebook-cell:/c%3A/Users/Emilio/Desktop/lab%20machine%20learning/lab1%28consegna%29/assignment_lab01.ipynb#X54sZmlsZQ%3D%3D?line=73'>74</a>\u001b[0m     \u001b[39m#print(f\"updating best\")\u001b[39;00m\n\u001b[0;32m     <a href='vscode-notebook-cell:/c%3A/Users/Emilio/Desktop/lab%20machine%20learning/lab1%28consegna%29/assignment_lab01.ipynb#X54sZmlsZQ%3D%3D?line=74'>75</a>\u001b[0m     \u001b[39m#print(f\"num_misclassified {num_misclassified}\")\u001b[39;00m\n\u001b[0;32m     <a href='vscode-notebook-cell:/c%3A/Users/Emilio/Desktop/lab%20machine%20learning/lab1%28consegna%29/assignment_lab01.ipynb#X54sZmlsZQ%3D%3D?line=75'>76</a>\u001b[0m     \u001b[39m#print(f\"index_misclassified  {index_misclassified}\\n\")\u001b[39;00m\n\u001b[0;32m     <a href='vscode-notebook-cell:/c%3A/Users/Emilio/Desktop/lab%20machine%20learning/lab1%28consegna%29/assignment_lab01.ipynb#X54sZmlsZQ%3D%3D?line=76'>77</a>\u001b[0m     \u001b[39m#update with error number\u001b[39;00m\n",
      "\u001b[1;32mc:\\Users\\Emilio\\Desktop\\lab machine learning\\lab1(consegna)\\assignment_lab01.ipynb Cell 40\u001b[0m line \u001b[0;36m9\n\u001b[0;32m      <a href='vscode-notebook-cell:/c%3A/Users/Emilio/Desktop/lab%20machine%20learning/lab1%28consegna%29/assignment_lab01.ipynb#X54sZmlsZQ%3D%3D?line=5'>6</a>\u001b[0m err \u001b[39m=\u001b[39m []\n\u001b[0;32m      <a href='vscode-notebook-cell:/c%3A/Users/Emilio/Desktop/lab%20machine%20learning/lab1%28consegna%29/assignment_lab01.ipynb#X54sZmlsZQ%3D%3D?line=6'>7</a>\u001b[0m \u001b[39mfor\u001b[39;00m i \u001b[39min\u001b[39;00m \u001b[39mrange\u001b[39m(\u001b[39m0\u001b[39m,\u001b[39mlen\u001b[39m(X)):\n\u001b[0;32m      <a href='vscode-notebook-cell:/c%3A/Users/Emilio/Desktop/lab%20machine%20learning/lab1%28consegna%29/assignment_lab01.ipynb#X54sZmlsZQ%3D%3D?line=7'>8</a>\u001b[0m     \u001b[39m#print(f\"<w,X>==> {np.dot(current_w,X[i]) } * {Y[i]}\")\u001b[39;00m\n\u001b[1;32m----> <a href='vscode-notebook-cell:/c%3A/Users/Emilio/Desktop/lab%20machine%20learning/lab1%28consegna%29/assignment_lab01.ipynb#X54sZmlsZQ%3D%3D?line=8'>9</a>\u001b[0m     \u001b[39mif\u001b[39;00m(np\u001b[39m.\u001b[39;49mdot(current_w,X[i])\u001b[39m*\u001b[39mY[i] \u001b[39m<\u001b[39m\u001b[39m=\u001b[39m \u001b[39m0\u001b[39m):\n\u001b[0;32m     <a href='vscode-notebook-cell:/c%3A/Users/Emilio/Desktop/lab%20machine%20learning/lab1%28consegna%29/assignment_lab01.ipynb#X54sZmlsZQ%3D%3D?line=9'>10</a>\u001b[0m         \u001b[39m# add a new misclassified\u001b[39;00m\n\u001b[0;32m     <a href='vscode-notebook-cell:/c%3A/Users/Emilio/Desktop/lab%20machine%20learning/lab1%28consegna%29/assignment_lab01.ipynb#X54sZmlsZQ%3D%3D?line=10'>11</a>\u001b[0m         err\u001b[39m.\u001b[39mappend(i)\n\u001b[0;32m     <a href='vscode-notebook-cell:/c%3A/Users/Emilio/Desktop/lab%20machine%20learning/lab1%28consegna%29/assignment_lab01.ipynb#X54sZmlsZQ%3D%3D?line=11'>12</a>\u001b[0m     \u001b[39m#else:\u001b[39;00m\n\u001b[0;32m     <a href='vscode-notebook-cell:/c%3A/Users/Emilio/Desktop/lab%20machine%20learning/lab1%28consegna%29/assignment_lab01.ipynb#X54sZmlsZQ%3D%3D?line=12'>13</a>\u001b[0m     \u001b[39m#   pass #nothing to do since is a good classification\u001b[39;00m\n",
      "File \u001b[1;32m<__array_function__ internals>:200\u001b[0m, in \u001b[0;36mdot\u001b[1;34m(*args, **kwargs)\u001b[0m\n",
      "\u001b[1;31mKeyboardInterrupt\u001b[0m: "
     ]
    }
   ],
   "source": [
    "w_found, error = perceptron(X_training,Y_training, 3000)# ADD YOUR CODE HERE  \n",
    "\n",
    "print(\"Training Error of perceptron (3000 iterations): \" + str(error))\n",
    "\n",
    "num_errors, _ = count_errors(w_found, X_test,Y_test)  # ADD YOUR CODE HERE  \n",
    "\n",
    "true_loss_estimate =  error/X_test.shape[0]# ADD YOUR CODE HERE  \n",
    "print(\"Test Error of perceptron (3000 iterations): \" + str(true_loss_estimate))"
   ]
  },
  {
   "cell_type": "markdown",
   "metadata": {},
   "source": [
    "**TO DO (A.Q3) [Answer the following]** <br>\n",
    "What about the difference between the training error and the test error in terms of the fraction of misclassified samples) when running for a larger number of iterations? Explain what you observe and compare with the previous case."
   ]
  },
  {
   "cell_type": "markdown",
   "metadata": {},
   "source": [
    "<div class=\"alert alert-block alert-info\">\n",
    "**ANSWER A.Q3**:<br>\n",
    "answer here\n",
    "</div>"
   ]
  },
  {
   "cell_type": "markdown",
   "metadata": {},
   "source": [
    "# B) Logistic Regression\n",
    "Now we use **logistic regression**, exploiting the implementation in **Scikit-learn**, to predict labels. We will also plot the decision boundaries of logistic regression.\n",
    "\n",
    "We first load the dataset again."
   ]
  },
  {
   "cell_type": "markdown",
   "metadata": {},
   "source": [
    "To define a logistic regression model in Scikit-learn use the instruction\n",
    "\n",
    "$linear\\_model.LogisticRegression(C=1e5)$\n",
    "\n",
    "($C$ is a parameter related to *regularization*, a technique that\n",
    "we will see later in the course. Setting it to a high value is almost\n",
    "as ignoring regularization, so the instruction above corresponds to the\n",
    "logistic regression you have seen in class.)\n",
    "\n",
    "To learn the model you need to use the $fit(...)$ instruction and to predict you need to use the $predict(...)$ function. <br>\n",
    "See the Scikit-learn documentation for how to use it [here](https://scikit-learn.org/stable/modules/generated/sklearn.linear_model.LogisticRegression.html).\n",
    "\n",
    "**TO DO (B.1):** **Define** the **logistic regression** model, then **learn** the model using **the training set** and **predict** on the **test set**. Then **print** the **fraction of samples misclassified** in the training set and in the test set."
   ]
  },
  {
   "cell_type": "code",
   "execution_count": null,
   "metadata": {},
   "outputs": [],
   "source": [
    "# part on logistic regression for 2 classes\n",
    "logreg = # ADD YOUR CODE HERE # C should be very large to ignore regularization (see above)\n",
    "\n",
    "# learn from training set: hint use fit(...)\n",
    "# ADD YOUR CODE HERE\n",
    "print(\"Intercept:\" , logreg.intercept_)\n",
    "print(\"Coefficients:\" , logreg.coef_)\n",
    "\n",
    "# predict on training set\n",
    "predicted_training = # ADD YOUR CODE HERE\n",
    "\n",
    "# print the error rate = fraction of misclassified samples\n",
    "error_count_training = (predicted_training != Y_training).sum()\n",
    "error_rate_training = # ADD YOUR CODE HERE\n",
    "print(\"Error rate on training set: \"+str(error_rate_training))\n",
    "\n",
    "# predict on test set\n",
    "predicted_test = # ADD YOUR CODE HERE\n",
    "\n",
    "#print the error rate = fraction of misclassified samples\n",
    "error_count_test = (predicted_test != Y_test).sum()\n",
    "error_rate_test = # ADD YOUR CODE HERE\n",
    "print(\"Error rate on test set: \" + str(error_rate_test))"
   ]
  },
  {
   "cell_type": "markdown",
   "metadata": {},
   "source": [
    "**TO DO (B.2)** Now **pick two features** and restrict the dataset to include only two features, whose indices are specified in the $idx0$ and $idx1$ variables below. Then split into training and test."
   ]
  },
  {
   "cell_type": "code",
   "execution_count": null,
   "metadata": {},
   "outputs": [],
   "source": [
    "feature_names  = [\"Tenure in Months\",\"Monthly Charge\",\"Age\"]\n",
    "\n",
    "# Select the two features to use\n",
    "idx0 = # ADD YOUR CODE HERE\n",
    "idx1 = # ADD YOUR CODE HERE\n",
    "\n",
    "X_reduced = X[:,[idx0, idx1]]\n",
    "\n",
    "# re-initialize the dataset splits, with the reduced sets\n",
    "X_training = # ADD YOUR CODE HERE\n",
    "Y_training = # ADD YOUR CODE HERE\n",
    "\n",
    "X_test = # ADD YOUR CODE HERE\n",
    "Y_test = # ADD YOUR CODE HERE"
   ]
  },
  {
   "cell_type": "markdown",
   "metadata": {},
   "source": [
    "Now learn a model using the training data and measure the performances."
   ]
  },
  {
   "cell_type": "code",
   "execution_count": null,
   "metadata": {},
   "outputs": [],
   "source": [
    "# learning from training data\n",
    "# ADD YOUR CODE HERE\n",
    "# predict on test set\n",
    "predicted_test = # ADD YOUR CODE HERE\n",
    "\n",
    "#print the error rate = fraction of misclassified samples\n",
    "error_count_test = (predicted_test != Y_test).sum()\n",
    "\n",
    "# print the error rate = fraction of misclassified samples\n",
    "error_rate_test = # ADD YOUR CODE HERE\n",
    "print(\"Error rate on test set: \" + str(error_rate_test))"
   ]
  },
  {
   "cell_type": "markdown",
   "metadata": {},
   "source": [
    "**TO DO (B.Q1) [Answer the following]** <br>\n",
    "Which features did you select and why? <br>\n",
    "Compare the perfomance of the classifiers trained with every combination of two features with that of the baseline (which used all 3 features)."
   ]
  },
  {
   "cell_type": "markdown",
   "metadata": {},
   "source": [
    "<div class=\"alert alert-block alert-info\">\n",
    "**ANSWER B.Q1**:<br>\n",
    "answer here\n",
    "</div>"
   ]
  },
  {
   "cell_type": "code",
   "execution_count": null,
   "metadata": {},
   "outputs": [],
   "source": []
  }
 ],
 "metadata": {
  "anaconda-cloud": {},
  "kernelspec": {
   "display_name": "Python 3 (ipykernel)",
   "language": "python",
   "name": "python3"
  },
  "language_info": {
   "codemirror_mode": {
    "name": "ipython",
    "version": 3
   },
   "file_extension": ".py",
   "mimetype": "text/x-python",
   "name": "python",
   "nbconvert_exporter": "python",
   "pygments_lexer": "ipython3",
   "version": "3.11.0"
  }
 },
 "nbformat": 4,
 "nbformat_minor": 4
}
